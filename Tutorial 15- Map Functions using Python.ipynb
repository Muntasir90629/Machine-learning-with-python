{
 "cells": [
  {
   "cell_type": "code",
   "execution_count": 1,
   "metadata": {},
   "outputs": [],
   "source": [
    "def even_odd(num):\n",
    "    if num%2==0:\n",
    "        \n",
    "        return \"The number {} is Even\".format(num)\n",
    "    \n",
    "    else:\n",
    "        \n",
    "        return \"the number {} is Odd\".format(num)"
   ]
  },
  {
   "cell_type": "code",
   "execution_count": 2,
   "metadata": {},
   "outputs": [
    {
     "data": {
      "text/plain": [
       "'the number 23 is Odd'"
      ]
     },
     "execution_count": 2,
     "metadata": {},
     "output_type": "execute_result"
    }
   ],
   "source": [
    "even_odd(23)"
   ]
  },
  {
   "cell_type": "code",
   "execution_count": 3,
   "metadata": {},
   "outputs": [],
   "source": [
    "lst=[1,2,3,4,5,6,7,8,9]"
   ]
  },
  {
   "cell_type": "code",
   "execution_count": 5,
   "metadata": {},
   "outputs": [
    {
     "data": {
      "text/plain": [
       "['the number 1 is Odd',\n",
       " 'The number 2 is Even',\n",
       " 'the number 3 is Odd',\n",
       " 'The number 4 is Even',\n",
       " 'the number 5 is Odd',\n",
       " 'The number 6 is Even',\n",
       " 'the number 7 is Odd',\n",
       " 'The number 8 is Even',\n",
       " 'the number 9 is Odd']"
      ]
     },
     "execution_count": 5,
     "metadata": {},
     "output_type": "execute_result"
    }
   ],
   "source": [
    "list(map(even_odd,lst))"
   ]
  },
  {
   "cell_type": "code",
   "execution_count": 6,
   "metadata": {},
   "outputs": [],
   "source": [
    "def add(num):\n",
    "    for i in range(1,10):\n",
    "        c=num*i \n",
    "        \n",
    "        print(\"{} and {} is {}\".format(num,i,c))"
   ]
  },
  {
   "cell_type": "code",
   "execution_count": 7,
   "metadata": {},
   "outputs": [
    {
     "name": "stdout",
     "output_type": "stream",
     "text": [
      "2 and 1 is 2\n",
      "2 and 2 is 4\n",
      "2 and 3 is 6\n",
      "2 and 4 is 8\n",
      "2 and 5 is 10\n",
      "2 and 6 is 12\n",
      "2 and 7 is 14\n",
      "2 and 8 is 16\n",
      "2 and 9 is 18\n"
     ]
    }
   ],
   "source": [
    "add(2)"
   ]
  },
  {
   "cell_type": "code",
   "execution_count": 8,
   "metadata": {},
   "outputs": [
    {
     "name": "stdout",
     "output_type": "stream",
     "text": [
      "1 and 1 is 1\n",
      "1 and 2 is 2\n",
      "1 and 3 is 3\n",
      "1 and 4 is 4\n",
      "1 and 5 is 5\n",
      "1 and 6 is 6\n",
      "1 and 7 is 7\n",
      "1 and 8 is 8\n",
      "1 and 9 is 9\n",
      "2 and 1 is 2\n",
      "2 and 2 is 4\n",
      "2 and 3 is 6\n",
      "2 and 4 is 8\n",
      "2 and 5 is 10\n",
      "2 and 6 is 12\n",
      "2 and 7 is 14\n",
      "2 and 8 is 16\n",
      "2 and 9 is 18\n",
      "3 and 1 is 3\n",
      "3 and 2 is 6\n",
      "3 and 3 is 9\n",
      "3 and 4 is 12\n",
      "3 and 5 is 15\n",
      "3 and 6 is 18\n",
      "3 and 7 is 21\n",
      "3 and 8 is 24\n",
      "3 and 9 is 27\n",
      "4 and 1 is 4\n",
      "4 and 2 is 8\n",
      "4 and 3 is 12\n",
      "4 and 4 is 16\n",
      "4 and 5 is 20\n",
      "4 and 6 is 24\n",
      "4 and 7 is 28\n",
      "4 and 8 is 32\n",
      "4 and 9 is 36\n",
      "5 and 1 is 5\n",
      "5 and 2 is 10\n",
      "5 and 3 is 15\n",
      "5 and 4 is 20\n",
      "5 and 5 is 25\n",
      "5 and 6 is 30\n",
      "5 and 7 is 35\n",
      "5 and 8 is 40\n",
      "5 and 9 is 45\n",
      "6 and 1 is 6\n",
      "6 and 2 is 12\n",
      "6 and 3 is 18\n",
      "6 and 4 is 24\n",
      "6 and 5 is 30\n",
      "6 and 6 is 36\n",
      "6 and 7 is 42\n",
      "6 and 8 is 48\n",
      "6 and 9 is 54\n",
      "7 and 1 is 7\n",
      "7 and 2 is 14\n",
      "7 and 3 is 21\n",
      "7 and 4 is 28\n",
      "7 and 5 is 35\n",
      "7 and 6 is 42\n",
      "7 and 7 is 49\n",
      "7 and 8 is 56\n",
      "7 and 9 is 63\n",
      "8 and 1 is 8\n",
      "8 and 2 is 16\n",
      "8 and 3 is 24\n",
      "8 and 4 is 32\n",
      "8 and 5 is 40\n",
      "8 and 6 is 48\n",
      "8 and 7 is 56\n",
      "8 and 8 is 64\n",
      "8 and 9 is 72\n",
      "9 and 1 is 9\n",
      "9 and 2 is 18\n",
      "9 and 3 is 27\n",
      "9 and 4 is 36\n",
      "9 and 5 is 45\n",
      "9 and 6 is 54\n",
      "9 and 7 is 63\n",
      "9 and 8 is 72\n",
      "9 and 9 is 81\n"
     ]
    },
    {
     "data": {
      "text/plain": [
       "[None, None, None, None, None, None, None, None, None]"
      ]
     },
     "execution_count": 8,
     "metadata": {},
     "output_type": "execute_result"
    }
   ],
   "source": [
    "list(map(add,lst))"
   ]
  }
 ],
 "metadata": {
  "kernelspec": {
   "display_name": "Python 3",
   "language": "python",
   "name": "python3"
  },
  "language_info": {
   "codemirror_mode": {
    "name": "ipython",
    "version": 3
   },
   "file_extension": ".py",
   "mimetype": "text/x-python",
   "name": "python",
   "nbconvert_exporter": "python",
   "pygments_lexer": "ipython3",
   "version": "3.8.5"
  }
 },
 "nbformat": 4,
 "nbformat_minor": 4
}
