{
 "cells": [
  {
   "cell_type": "code",
   "execution_count": 1,
   "metadata": {},
   "outputs": [
    {
     "name": "stdout",
     "output_type": "stream",
     "text": [
      "user have not derive  the variable\n"
     ]
    }
   ],
   "source": [
    "try:\n",
    "    \n",
    "    ## code block where execption can occur\n",
    "    \n",
    "    a=b\n",
    "    b=\"s\"\n",
    "    c=a+b\n",
    "except NameError as ex1:\n",
    "    print(\"user have not derive  the variable\")\n",
    "except Exception as ex:\n",
    "    print(ex)"
   ]
  },
  {
   "cell_type": "code",
   "execution_count": 2,
   "metadata": {},
   "outputs": [
    {
     "ename": "NameError",
     "evalue": "name 'b' is not defined",
     "output_type": "error",
     "traceback": [
      "\u001b[1;31m---------------------------------------------------------------------------\u001b[0m",
      "\u001b[1;31mNameError\u001b[0m                                 Traceback (most recent call last)",
      "\u001b[1;32m<ipython-input-2-488068fe1e94>\u001b[0m in \u001b[0;36m<module>\u001b[1;34m\u001b[0m\n\u001b[1;32m----> 1\u001b[1;33m \u001b[0ma\u001b[0m\u001b[1;33m=\u001b[0m\u001b[0mb\u001b[0m\u001b[1;33m\u001b[0m\u001b[1;33m\u001b[0m\u001b[0m\n\u001b[0m",
      "\u001b[1;31mNameError\u001b[0m: name 'b' is not defined"
     ]
    }
   ],
   "source": [
    "a=b"
   ]
  },
  {
   "cell_type": "code",
   "execution_count": 3,
   "metadata": {},
   "outputs": [
    {
     "name": "stdout",
     "output_type": "stream",
     "text": [
      "user have not derive  the variable\n"
     ]
    }
   ],
   "source": [
    "try:\n",
    "    ## code block where execption can occur\n",
    "    a=b\n",
    "    b=\"s\"\n",
    "    c=a+b\n",
    "except NameError:\n",
    "    print(\"user have not derive  the variable\")\n",
    "except TypeError:\n",
    "    print(\"user have not derive  the type\")\n",
    "except Exception as ex:\n",
    "    print(ex)"
   ]
  },
  {
   "cell_type": "code",
   "execution_count": 6,
   "metadata": {},
   "outputs": [
    {
     "name": "stdout",
     "output_type": "stream",
     "text": [
      "Enter the number 12\n",
      "Enter the number 23\n",
      "5\n",
      "6\n",
      "0.6666666666666666\n"
     ]
    }
   ],
   "source": [
    "try:\n",
    "    ## code block where execption can occur\n",
    "    a=int(input(\"Enter the number 1\"))\n",
    "    b=int(input(\"Enter the number 2\"))\n",
    "    c=a+b\n",
    "    d=a*b\n",
    "    e=a/b\n",
    "    print(c)\n",
    "    print(d)\n",
    "    print(e)\n",
    "except NameError:\n",
    "    print(\"user have not derive  the variable\")\n",
    "except TypeError:\n",
    "    print(\"user have not derive  the type\")\n",
    "except Exception as ex:\n",
    "    print(ex)"
   ]
  },
  {
   "cell_type": "code",
   "execution_count": 9,
   "metadata": {},
   "outputs": [
    {
     "name": "stdout",
     "output_type": "stream",
     "text": [
      "Enter the number 15\n",
      "Enter the number 23\n",
      "8\n",
      "15\n",
      "1.6666666666666667\n"
     ]
    }
   ],
   "source": [
    "#try and else\n",
    "try:\n",
    "    ## code block where execption can occur\n",
    "    a=int(input(\"Enter the number 1\"))\n",
    "    b=int(input(\"Enter the number 2\"))\n",
    "    c=a+b\n",
    "    d=a*b\n",
    "    e=a/b\n",
    "    \n",
    "except NameError:\n",
    "    print(\"user have not derive  the variable\")\n",
    "except TypeError:\n",
    "    print(\"user have not derive  the type\")\n",
    "except Exception as ex:\n",
    "    print(ex)\n",
    "    \n",
    "else :\n",
    "    print(c)\n",
    "    print(d)\n",
    "    print(e)"
   ]
  },
  {
   "cell_type": "code",
   "execution_count": 11,
   "metadata": {},
   "outputs": [
    {
     "name": "stdout",
     "output_type": "stream",
     "text": [
      "Enter the number 11\n",
      "Enter the number 2d\n",
      "invalid literal for int() with base 10: 'd'\n",
      "this execution is done\n"
     ]
    }
   ],
   "source": [
    "#try else finaly\n",
    "#try and else\n",
    "try:\n",
    "    ## code block where execption can occur\n",
    "    a=int(input(\"Enter the number 1\"))\n",
    "    b=int(input(\"Enter the number 2\"))\n",
    "    c=a+b\n",
    "    d=a*b\n",
    "    e=a/b\n",
    "    \n",
    "except NameError:\n",
    "    print(\"user have not derive  the variable\")\n",
    "except TypeError:\n",
    "    print(\"user have not derive  the type\")\n",
    "except Exception as ex:\n",
    "    print(ex)\n",
    "    \n",
    "else :\n",
    "    print(c)\n",
    "finally:\n",
    "    print(\"this execution is done\")"
   ]
  }
 ],
 "metadata": {
  "kernelspec": {
   "display_name": "Python 3",
   "language": "python",
   "name": "python3"
  },
  "language_info": {
   "codemirror_mode": {
    "name": "ipython",
    "version": 3
   },
   "file_extension": ".py",
   "mimetype": "text/x-python",
   "name": "python",
   "nbconvert_exporter": "python",
   "pygments_lexer": "ipython3",
   "version": "3.8.5"
  }
 },
 "nbformat": 4,
 "nbformat_minor": 4
}
